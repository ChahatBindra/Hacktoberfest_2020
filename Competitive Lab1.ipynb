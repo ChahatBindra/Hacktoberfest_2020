{
 "cells": [
  {
   "cell_type": "code",
   "execution_count": 4,
   "metadata": {},
   "outputs": [
    {
     "name": "stdout",
     "output_type": "stream",
     "text": [
      "Enter the stringBennettUniversity\n",
      "Enter the positive nth location 2\n",
      "BEnNeTtUnIvErSiTy\n"
     ]
    }
   ],
   "source": [
    "#Question 4\n",
    "str = input(\"Enter the string\")\n",
    "n = int(input(\"Enter the positive nth location \"))\n",
    "count = 1\n",
    "s = \"\"\n",
    "for i in str:      \n",
    "    if(i.islower()):\n",
    "        if(count%n==0):\n",
    "            s = s + i.upper()\n",
    "            count+=1\n",
    "        else:\n",
    "            s = s + i\n",
    "            count+=1\n",
    "    else:\n",
    "        count+=1\n",
    "        s+=i\n",
    "          \n",
    "print(s)\n",
    "\n"
   ]
  },
  {
   "cell_type": "code",
   "execution_count": 5,
   "metadata": {},
   "outputs": [
    {
     "name": "stdout",
     "output_type": "stream",
     "text": [
      "Enter the number of counters5\n",
      "[[30, 25, 20], [29, 24], [28, 23], [27, 22], [26, 21]]\n"
     ]
    }
   ],
   "source": [
    "#Question 2\n",
    "ls = [20,21,22,23,24,25,26,27,28,29,30]\n",
    "n = int(input(\"Enter the number of counters\"))\n",
    "num=n\n",
    "nls = []\n",
    "s = len(ls)-1\n",
    "for i in range(n,0,-1):\n",
    "    nls.append(ls[s::-n])\n",
    "    s-=1\n",
    "print(nls)\n"
   ]
  },
  {
   "cell_type": "code",
   "execution_count": 18,
   "metadata": {},
   "outputs": [
    {
     "name": "stdout",
     "output_type": "stream",
     "text": [
      "Enter the left100\n",
      "Enter the right110\n",
      "Enter the number of digits 1\n",
      "Enter the number1\n",
      "2\n"
     ]
    }
   ],
   "source": [
    "#Question 1\n",
    "left = int(input(\"Enter the left\"))\n",
    "right = int(input(\"Enter the right\"))\n",
    "n = int(input(\"Enter the number of digits \"))\n",
    "ls = []\n",
    "for i in range(0,n):\n",
    "    num = int(input(\"Enter the number\"))\n",
    "    ls.append(num)\n",
    "    \n",
    "nls = []\n",
    "for i in range(left,right+1):\n",
    "    nls.append(i)\n",
    "\n",
    "c = 0\n",
    "for i in nls:\n",
    "    a = str(i)\n",
    "    lit = list(a)\n",
    "    for j in range(len(lit)):\n",
    "        if((j+1)%2!=0):\n",
    "            if(int(lit[j-1]) in ls):\n",
    "                c+=1\n",
    "                \n",
    "\n",
    "    \n",
    "    \n",
    "\n",
    "print(c)\n",
    "\n",
    "    \n"
   ]
  },
  {
   "cell_type": "code",
   "execution_count": 2,
   "metadata": {},
   "outputs": [
    {
     "name": "stdout",
     "output_type": "stream",
     "text": [
      "Enter the dog location24\n",
      "Enter the dog jump7\n",
      "[24, 17, 10, 3, -4, 3, 10, 17, 24]\n"
     ]
    }
   ],
   "source": [
    "#Question 4\n",
    "arr = []\n",
    "a = int(input(\"Enter the dog location\"))\n",
    "arr.append(a)\n",
    "c = a\n",
    "b = int(input(\"Enter the dog jump\")) \n",
    "def dog(a,b,arr,c):\n",
    "    if(a>0):\n",
    "        a = a-b\n",
    "        arr.append(a)\n",
    "        return dog(a,b,arr,c)\n",
    "    if(a<=0):\n",
    "        wapas(a,b,arr,c)\n",
    "    print(arr)\n",
    "def wapas(a,b,arr,c):\n",
    "    if(a<c):\n",
    "        a = a+b\n",
    "        arr.append(a)\n",
    "        return wapas(a,b,arr,c)\n",
    "\n",
    "dog(a,b,arr,c)\n",
    "#print(arr)"
   ]
  },
  {
   "cell_type": "code",
   "execution_count": 6,
   "metadata": {},
   "outputs": [
    {
     "name": "stdout",
     "output_type": "stream",
     "text": [
      "Enter the age29\n",
      "Position:  6  Age:  30\n"
     ]
    }
   ],
   "source": [
    "#Question 5\n",
    "arr = [2,5,10,13,23,30,32,40,60,70]\n",
    "a = int(input(\"Enter the age\"))\n",
    "def bekaar(a,arr):\n",
    "    low = 0\n",
    "    high=len(arr)-1\n",
    "    while(low<=high):\n",
    "        mid = (low+high)//2\n",
    "        if(arr[mid]==a):\n",
    "            print(\"its present at \", mid+1, \"th position\")\n",
    "            break\n",
    "        else:\n",
    "            if(arr[mid]<a):\n",
    "                low = mid+1\n",
    "                c = arr[low]\n",
    "            if(arr[mid]>a):\n",
    "                high = mid-1\n",
    "                b = arr[high]\n",
    "    \n",
    "    if(a not in arr):      \n",
    "        if((a-b)<(c-a)):\n",
    "            print(\"Position: \" , high+1, \" Age: \" ,arr[high])\n",
    "        else:\n",
    "            print(\"Position: \",low+1, \" Age: \",arr[low])\n",
    "        \n",
    "\n",
    "\n",
    "bekaar(a,arr)\n",
    "        "
   ]
  },
  {
   "cell_type": "code",
   "execution_count": 30,
   "metadata": {},
   "outputs": [
    {
     "name": "stdout",
     "output_type": "stream",
     "text": [
      "Enter the left10\n",
      "Enter the right20\n",
      "Enter the number of digits 4\n",
      "Enter the number1\n",
      "Enter the number2\n",
      "Enter the number3\n",
      "Enter the number7\n",
      "['1', '0']\n",
      "['1', '1']\n",
      "['1', '2']\n",
      "['1', '3']\n",
      "['1', '4']\n",
      "['1', '5']\n",
      "['1', '6']\n",
      "['1', '7']\n",
      "['1', '8']\n",
      "['1', '9']\n",
      "['2', '0']\n",
      "[1, 1, 1, 1]\n",
      "4\n"
     ]
    }
   ],
   "source": [
    "left = int(input(\"Enter the left\"))\n",
    "right = int(input(\"Enter the right\"))\n",
    "n = int(input(\"Enter the number of digits \"))\n",
    "ls = []\n",
    "for i in range(0,n):\n",
    "    num = int(input(\"Enter the number\"))\n",
    "    ls.append(num)\n",
    "    \n",
    "nls = []\n",
    "for i in range(left,right+1):\n",
    "    nls.append(i)\n",
    "arr = []\n",
    "\n",
    "\n",
    "i=0\n",
    "def odd(nls,i,ls):\n",
    "    c = 0\n",
    "    if(i<len(nls)):\n",
    "        a = str(nls[i])\n",
    "        lit = list(a)\n",
    "        print(lit)\n",
    "        for j in range(len(lit)-1,-1,-1):\n",
    "            if((len(lit)-j)%2!=0):\n",
    "                if(int(lit[j]) in ls):\n",
    "                    c+=1\n",
    "                    \n",
    "                    arr.append(c)\n",
    "                    return odd(nls,i+1,ls)\n",
    "                else:\n",
    "                    continue\n",
    "                           \n",
    "                    \n",
    "        return odd(nls,i+1,ls)\n",
    "    \n",
    "    \n",
    "odd(nls,i,ls)\n",
    "s=0\n",
    "print(arr)\n",
    "for i in arr:\n",
    "    s = s + i\n",
    "print(s)\n",
    "\n",
    "    \n"
   ]
  },
  {
   "cell_type": "code",
   "execution_count": null,
   "metadata": {},
   "outputs": [],
   "source": []
  },
  {
   "cell_type": "code",
   "execution_count": null,
   "metadata": {},
   "outputs": [],
   "source": []
  },
  {
   "cell_type": "code",
   "execution_count": null,
   "metadata": {},
   "outputs": [],
   "source": []
  }
 ],
 "metadata": {
  "kernelspec": {
   "display_name": "Python 3",
   "language": "python",
   "name": "python3"
  },
  "language_info": {
   "codemirror_mode": {
    "name": "ipython",
    "version": 3
   },
   "file_extension": ".py",
   "mimetype": "text/x-python",
   "name": "python",
   "nbconvert_exporter": "python",
   "pygments_lexer": "ipython3",
   "version": "3.6.5"
  }
 },
 "nbformat": 4,
 "nbformat_minor": 2
}
